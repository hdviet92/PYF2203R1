{
 "cells": [
  {
   "cell_type": "code",
   "execution_count": 1,
   "id": "fa19508f",
   "metadata": {},
   "outputs": [
    {
     "name": "stdout",
     "output_type": "stream",
     "text": [
      "Chuỗi số ngẫu nhiên: [89, 3, 11, 80, 16, 92, 15, 24, 34, 30]\n",
      "Hai số lớn nhất trong chuỗi: [89, 92]\n"
     ]
    }
   ],
   "source": [
    "import random\n",
    "\n",
    "sophantu_numbers = int(random.choice([i for i in range(1,20)]))\n",
    "\n",
    "numbers = []\n",
    "for i in range(sophantu_numbers):\n",
    "    phantu_numbers = int(random.choice([i for i in range(101)]))\n",
    "    numbers.append(phantu_numbers)\n",
    "print('Chuỗi số ngẫu nhiên:',numbers)\n",
    "\n",
    "numbers.sort()\n",
    "Max_num_2 = []\n",
    "if len(numbers) > 2:\n",
    "    Max_num_2.append(numbers[-2])\n",
    "    Max_num_2.append(numbers[-1])\n",
    "else:\n",
    "    Max_num_2 = numbers\n",
    "print('Hai số lớn nhất trong chuỗi:',Max_num_2)"
   ]
  }
 ],
 "metadata": {
  "kernelspec": {
   "display_name": "Python 3 (ipykernel)",
   "language": "python",
   "name": "python3"
  },
  "language_info": {
   "codemirror_mode": {
    "name": "ipython",
    "version": 3
   },
   "file_extension": ".py",
   "mimetype": "text/x-python",
   "name": "python",
   "nbconvert_exporter": "python",
   "pygments_lexer": "ipython3",
   "version": "3.9.7"
  }
 },
 "nbformat": 4,
 "nbformat_minor": 5
}
