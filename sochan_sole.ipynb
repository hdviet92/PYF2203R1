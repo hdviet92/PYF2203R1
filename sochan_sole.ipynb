{
 "cells": [
  {
   "cell_type": "code",
   "execution_count": 1,
   "id": "9d2c2fcf",
   "metadata": {},
   "outputs": [
    {
     "name": "stdout",
     "output_type": "stream",
     "text": [
      "Nhập một số tự nhiên: 1\n",
      "số lẻ\n"
     ]
    }
   ],
   "source": [
    "num = float(input('Nhập một số tự nhiên: '))\n",
    "if num%2 == 0:\n",
    "    mgs = 'số chẵn'\n",
    "else:\n",
    "    mgs = 'số lẻ'\n",
    "print(mgs)"
   ]
  }
 ],
 "metadata": {
  "kernelspec": {
   "display_name": "Python 3 (ipykernel)",
   "language": "python",
   "name": "python3"
  },
  "language_info": {
   "codemirror_mode": {
    "name": "ipython",
    "version": 3
   },
   "file_extension": ".py",
   "mimetype": "text/x-python",
   "name": "python",
   "nbconvert_exporter": "python",
   "pygments_lexer": "ipython3",
   "version": "3.9.7"
  }
 },
 "nbformat": 4,
 "nbformat_minor": 5
}
