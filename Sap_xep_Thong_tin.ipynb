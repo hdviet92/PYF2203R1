{
 "cells": [
  {
   "cell_type": "code",
   "execution_count": 1,
   "id": "eec4344b",
   "metadata": {},
   "outputs": [
    {
     "name": "stdout",
     "output_type": "stream",
     "text": [
      "dict_values([(8, 9, 10)])\n",
      "dict_values([[9, 7, 9]])\n",
      "dict_values([[10, 8, 10]])\n",
      "Stt\t\tTên Đại học\t\tHọ tên\t\t\tĐiểm trung bình\n",
      "1\t\tĐại học FPT\t\tTrần Công Hoan\t\t9.0\t\t\n",
      "2\t\tĐại học BKĐN\t\tHuỳnh Đức Việt\t\t8.333333333333334\t\t\n",
      "3\t\tĐại học KTĐN\t\tLa Văn Mạnh\t\t9.333333333333334\t\t\n"
     ]
    }
   ],
   "source": [
    "def average_mark(marks):\n",
    "    '''Tính giá trị điểm trung bình'''\n",
    "    total = 0\n",
    "    for i in marks:\n",
    "        total  += i\n",
    "    return total/len(marks)\n",
    "\n",
    "data = {'Đại học FPT':{('Trần Công Hoan', '1/1/11'): (8, 9, 10)}, \n",
    "           'Đại học BKĐN':{('Huỳnh Đức Việt','2/2/22'): [9, 7, 9]},\n",
    "          'Đại học KTĐN':{('La Văn Mạnh','3/3/33'): [10, 8, 10]}}\n",
    "\n",
    "result = {} \n",
    "index = 0\n",
    "for k,v in data.items():\n",
    "    data = (k, list(v.keys())[0][0], average_mark(list(v.values())[0]))\n",
    "    index += 1\n",
    "    result[index] = data\n",
    "    print(v.values())\n",
    "print('Stt\\t\\tTên Đại học\\t\\tHọ tên\\t\\t\\tĐiểm trung bình')\n",
    "for k,v in result.items():\n",
    "    print(k, end = '\\t\\t')\n",
    "    for i in v:\n",
    "        print (i, end = '\\t\\t') \n",
    "    print()"
   ]
  },
  {
   "cell_type": "code",
   "execution_count": null,
   "id": "f34fe6cf",
   "metadata": {},
   "outputs": [],
   "source": []
  }
 ],
 "metadata": {
  "kernelspec": {
   "display_name": "Python 3 (ipykernel)",
   "language": "python",
   "name": "python3"
  },
  "language_info": {
   "codemirror_mode": {
    "name": "ipython",
    "version": 3
   },
   "file_extension": ".py",
   "mimetype": "text/x-python",
   "name": "python",
   "nbconvert_exporter": "python",
   "pygments_lexer": "ipython3",
   "version": "3.9.7"
  }
 },
 "nbformat": 4,
 "nbformat_minor": 5
}
