{
 "cells": [
  {
   "cell_type": "code",
   "execution_count": 1,
   "id": "5c7936c1",
   "metadata": {},
   "outputs": [],
   "source": [
    "import turtle\n",
    "\n",
    "tl = turtle.Turtle()\n",
    "i = 0\n",
    "while True:\n",
    "    tl.forward(i/7)\n",
    "    tl.left(10)\n",
    "    i += 1\n",
    "    if i == 200:\n",
    "        break\n",
    "turtle.mainloop()"
   ]
  }
 ],
 "metadata": {
  "kernelspec": {
   "display_name": "Python 3 (ipykernel)",
   "language": "python",
   "name": "python3"
  },
  "language_info": {
   "codemirror_mode": {
    "name": "ipython",
    "version": 3
   },
   "file_extension": ".py",
   "mimetype": "text/x-python",
   "name": "python",
   "nbconvert_exporter": "python",
   "pygments_lexer": "ipython3",
   "version": "3.9.7"
  }
 },
 "nbformat": 4,
 "nbformat_minor": 5
}
