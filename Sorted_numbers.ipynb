{
 "cells": [
  {
   "cell_type": "code",
   "execution_count": 1,
   "id": "4d06112b",
   "metadata": {},
   "outputs": [
    {
     "name": "stdout",
     "output_type": "stream",
     "text": [
      "Nhập số thứ 1: 323\n",
      "Nhập số thứ 2: 32\n",
      "Nhập số thứ 3: 45\n",
      "Original numbers:  323 32 45\n",
      "Sorted numbers:  32 45 323\n"
     ]
    }
   ],
   "source": [
    "def sort_numbers(num1, num2, num3):    \n",
    "    temp = 0\n",
    "    if num2 < num1 and num2 < num3:\n",
    "        temp = num1\n",
    "        num1 = num2\n",
    "        num2 = temp\n",
    "    elif num3 < num1 and num3 < num2:\n",
    "        temp = num1\n",
    "        num1 = num3\n",
    "        num3 = temp\n",
    "    if num3 < num2:\n",
    "        temp = num2\n",
    "        num2 = num3\n",
    "        num3 = temp\n",
    "    return num1, num2, num3\n",
    "\n",
    "\n",
    "x = int(input('Nhập số thứ 1: '))\n",
    "y = int(input('Nhập số thứ 2: '))\n",
    "z = int(input('Nhập số thứ 3: '))\n",
    "a, b, c = sort_numbers(x, y, z)\n",
    "print(\"Original numbers:\", x, y, z)\n",
    "print(\"Sorted numbers:\", a, b, c)\n"
   ]
  },
  {
   "cell_type": "code",
   "execution_count": null,
   "id": "e0295ccc",
   "metadata": {},
   "outputs": [],
   "source": []
  }
 ],
 "metadata": {
  "kernelspec": {
   "display_name": "Python 3 (ipykernel)",
   "language": "python",
   "name": "python3"
  },
  "language_info": {
   "codemirror_mode": {
    "name": "ipython",
    "version": 3
   },
   "file_extension": ".py",
   "mimetype": "text/x-python",
   "name": "python",
   "nbconvert_exporter": "python",
   "pygments_lexer": "ipython3",
   "version": "3.9.7"
  }
 },
 "nbformat": 4,
 "nbformat_minor": 5
}
