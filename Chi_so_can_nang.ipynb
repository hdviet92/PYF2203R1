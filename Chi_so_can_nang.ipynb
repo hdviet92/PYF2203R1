{
 "cells": [
  {
   "cell_type": "code",
   "execution_count": 1,
   "id": "0e1e7894",
   "metadata": {},
   "outputs": [
    {
     "name": "stdout",
     "output_type": "stream",
     "text": [
      "Nhập cân nặng(kg):80\n",
      "Nhập chiều cao(m):1.6\n",
      "Béo phì cấp độ I\n"
     ]
    }
   ],
   "source": [
    "kg = float(input('Nhập cân nặng (kg):'))\n",
    "m = float(input('Nhập chiều cao (m):'))\n",
    "BMI = kg/(m*m)\n",
    "\n",
    "if BMI > 40:\n",
    "    msg = 'Béo phì cấp độ III'\n",
    "elif BMI >= 35:\n",
    "    msg = 'Béo phì cấp độ II'\n",
    "elif BMI >= 30:\n",
    "    msg = 'Béo phì cấp độ I'\n",
    "elif BMI >= 25:\n",
    "    msg = 'Thừa cân'\n",
    "elif BMI >= 18.5:\n",
    "    msg = 'Bình thường'\n",
    "elif BMI >= 17:\n",
    "    msg = 'Gầy cấp độ I'\n",
    "elif BMI >= 16:\n",
    "    msg = 'Gầy cấp độ II'\n",
    "else:\n",
    "    msg = 'Gầy cấp độ III'\n",
    "print(msg)"
   ]
  }
 ],
 "metadata": {
  "kernelspec": {
   "display_name": "Python 3 (ipykernel)",
   "language": "python",
   "name": "python3"
  },
  "language_info": {
   "codemirror_mode": {
    "name": "ipython",
    "version": 3
   },
   "file_extension": ".py",
   "mimetype": "text/x-python",
   "name": "python",
   "nbconvert_exporter": "python",
   "pygments_lexer": "ipython3",
   "version": "3.9.7"
  }
 },
 "nbformat": 4,
 "nbformat_minor": 5
}
