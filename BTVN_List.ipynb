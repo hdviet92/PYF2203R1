{
 "cells": [
  {
   "cell_type": "code",
   "execution_count": 1,
   "id": "014245b7",
   "metadata": {
    "scrolled": true
   },
   "outputs": [],
   "source": [
    "from vietlist import *\n",
    "def tbc_sntd(chuoi):\n",
    "    '''Tính TBC cho các số nguyên tố dương'''\n",
    "    \n",
    "    chuoi = chuoi.split()\n",
    "    sntd = []\n",
    "\n",
    "    for i in chuoi:\n",
    "        if i.isdigit() and songuyento(i):\n",
    "            sntd.append(int(i))\n",
    "    \n",
    "    if len(sntd) > 0:\n",
    "        tbc_sntd = sum(sntd)/len(sntd)\n",
    "    else:\n",
    "        tbc_sntd = None\n",
    "        \n",
    "    return tbc_sntd"
   ]
  },
  {
   "cell_type": "code",
   "execution_count": 2,
   "id": "6f384c1c",
   "metadata": {},
   "outputs": [
    {
     "name": "stdout",
     "output_type": "stream",
     "text": [
      "Nhập số công việc: 2\n",
      "Giờ bắt đầu công việc thứ 1: 6\n",
      "Giờ kết thúc công việc thứ 1: 12\n",
      "Giờ bắt đầu công việc thứ 2: 1\n",
      "Giờ kết thúc công việc thứ 2: 6\n",
      "5\n"
     ]
    }
   ],
   "source": [
    "# Tính giờ làm việc trong nhà máy\n",
    "\n",
    "n = int(input('Nhập số công việc: '))\n",
    "input_data = []\n",
    "for i in range(n):\n",
    "    cv = []\n",
    "    cv.append(int(input(\"Giờ bắt đầu công việc thứ {0}: \".format(i+1))))\n",
    "    cv.append(int(input('Giờ kết thúc công việc thứ {0}: '.format(i+1))))\n",
    "input_data.append(cv)\n",
    "    \n",
    "check_list = [False for i in range(24)]\n",
    "for i in input_data:\n",
    "    for j in range(i[0],i[1]):\n",
    "        check_list[j] = True\n",
    "hours = 0\n",
    "for i in check_list:\n",
    "    if i:\n",
    "        hours += 1\n",
    "print(hours)"
   ]
  }
 ],
 "metadata": {
  "kernelspec": {
   "display_name": "Python 3 (ipykernel)",
   "language": "python",
   "name": "python3"
  },
  "language_info": {
   "codemirror_mode": {
    "name": "ipython",
    "version": 3
   },
   "file_extension": ".py",
   "mimetype": "text/x-python",
   "name": "python",
   "nbconvert_exporter": "python",
   "pygments_lexer": "ipython3",
   "version": "3.9.7"
  }
 },
 "nbformat": 4,
 "nbformat_minor": 5
}
