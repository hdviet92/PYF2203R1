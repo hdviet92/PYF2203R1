{
 "cells": [
  {
   "cell_type": "code",
   "execution_count": 1,
   "id": "014245b7",
   "metadata": {
    "scrolled": true
   },
   "outputs": [],
   "source": [
    "def tbc_snd(chuoi):\n",
    "    '''Tính TBC cho các số nguyên dương'''\n",
    "    \n",
    "    chuoi = chuoi.split()\n",
    "    snd = []\n",
    "\n",
    "    for i in chuoi:\n",
    "        if i.isdigit():\n",
    "            snd.append(int(i))\n",
    "    \n",
    "    if len(snd) > 0:\n",
    "        tbc_snd = sum(snd)/len(snd)\n",
    "    else:\n",
    "        tbc_snd = None\n",
    "        \n",
    "    return tbc_snd"
   ]
  },
  {
   "cell_type": "code",
   "execution_count": 2,
   "id": "6f384c1c",
   "metadata": {},
   "outputs": [
    {
     "name": "stdout",
     "output_type": "stream",
     "text": [
      "6\n",
      "-\n",
      "1\n",
      "0\n",
      "1\n",
      "2\n",
      "-\n",
      "1\n",
      "4\n",
      "1\n",
      "3\n",
      "-\n",
      "1\n",
      "8\n"
     ]
    }
   ],
   "source": [
    "time = '6-10 12-14 13-18'.split()\n",
    "for i in time:\n",
    "    for j in i:\n",
    "        print(j)"
   ]
  }
 ],
 "metadata": {
  "kernelspec": {
   "display_name": "Python 3 (ipykernel)",
   "language": "python",
   "name": "python3"
  },
  "language_info": {
   "codemirror_mode": {
    "name": "ipython",
    "version": 3
   },
   "file_extension": ".py",
   "mimetype": "text/x-python",
   "name": "python",
   "nbconvert_exporter": "python",
   "pygments_lexer": "ipython3",
   "version": "3.9.7"
  }
 },
 "nbformat": 4,
 "nbformat_minor": 5
}
