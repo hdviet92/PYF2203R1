{
 "cells": [
  {
   "cell_type": "code",
   "execution_count": 1,
   "id": "014d40c0",
   "metadata": {},
   "outputs": [
    {
     "name": "stdout",
     "output_type": "stream",
     "text": [
      "Tiền USD: 2\n",
      "Tỉ giá USD/VND: 25000\n",
      "Tiền VNĐ: 50000\n"
     ]
    }
   ],
   "source": [
    "usd = int(input('Tiền USD: '))\n",
    "ti_gia = int(input('Tỉ giá USD/VND: '))\n",
    "vnd = usd*ti_gia\n",
    "print('Tiền VNĐ:',vnd)"
   ]
  }
 ],
 "metadata": {
  "kernelspec": {
   "display_name": "Python 3 (ipykernel)",
   "language": "python",
   "name": "python3"
  },
  "language_info": {
   "codemirror_mode": {
    "name": "ipython",
    "version": 3
   },
   "file_extension": ".py",
   "mimetype": "text/x-python",
   "name": "python",
   "nbconvert_exporter": "python",
   "pygments_lexer": "ipython3",
   "version": "3.9.7"
  }
 },
 "nbformat": 4,
 "nbformat_minor": 5
}
