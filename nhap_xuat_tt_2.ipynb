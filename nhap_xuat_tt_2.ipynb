{
 "cells": [
  {
   "cell_type": "code",
   "execution_count": 1,
   "id": "b30a7be3",
   "metadata": {},
   "outputs": [
    {
     "name": "stdout",
     "output_type": "stream",
     "text": [
      "('1111', ('q', 8.0))\n",
      "('1112', ('a', 8.0))\n",
      "None\n"
     ]
    }
   ],
   "source": [
    "a = {'1111': ('q', 8.0), '1112': ('e', 7.0), '1112': ('a', 8.0)}\n",
    "for i in a.items():\n",
    "    if i[1][1]>= 8:\n",
    "        print(i)\n",
    "        \n",
    "a_sort = list(a.items()).sort()\n",
    "print(a_sort)"
   ]
  }
 ],
 "metadata": {
  "kernelspec": {
   "display_name": "Python 3 (ipykernel)",
   "language": "python",
   "name": "python3"
  },
  "language_info": {
   "codemirror_mode": {
    "name": "ipython",
    "version": 3
   },
   "file_extension": ".py",
   "mimetype": "text/x-python",
   "name": "python",
   "nbconvert_exporter": "python",
   "pygments_lexer": "ipython3",
   "version": "3.9.7"
  }
 },
 "nbformat": 4,
 "nbformat_minor": 5
}
