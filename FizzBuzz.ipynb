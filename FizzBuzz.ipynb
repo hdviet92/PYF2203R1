{
 "cells": [
  {
   "cell_type": "code",
   "execution_count": 1,
   "id": "e0746fd1",
   "metadata": {},
   "outputs": [
    {
     "name": "stdout",
     "output_type": "stream",
     "text": [
      "Buzz\n",
      "Fizz\n",
      "22\n",
      "23\n",
      "Fizz\n",
      "Buzz\n",
      "26\n",
      "Fizz\n",
      "28\n",
      "29\n",
      "FizzBuzz\n"
     ]
    }
   ],
   "source": [
    "numbers = '20 30'.split()\n",
    "\n",
    "if numbers[0] > numbers[1]:\n",
    "    print('Nhập số kết thúc lớn hơn')\n",
    "else:\n",
    "    for i in range(int(numbers[0]),int(numbers[1])+1):\n",
    "        if int(i) % 3 == 0 and int(i) % 5 == 0:\n",
    "            print('FizzBuzz')\n",
    "        elif int(i) % 3 == 0:\n",
    "            print('Fizz')\n",
    "        elif int(i) % 5 == 0:\n",
    "            print('Buzz')\n",
    "        else:\n",
    "            print(i)"
   ]
  }
 ],
 "metadata": {
  "kernelspec": {
   "display_name": "Python 3 (ipykernel)",
   "language": "python",
   "name": "python3"
  },
  "language_info": {
   "codemirror_mode": {
    "name": "ipython",
    "version": 3
   },
   "file_extension": ".py",
   "mimetype": "text/x-python",
   "name": "python",
   "nbconvert_exporter": "python",
   "pygments_lexer": "ipython3",
   "version": "3.9.7"
  }
 },
 "nbformat": 4,
 "nbformat_minor": 5
}
