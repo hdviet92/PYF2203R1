{
 "cells": [
  {
   "cell_type": "code",
   "execution_count": 1,
   "id": "3a3be6f2",
   "metadata": {
    "scrolled": true
   },
   "outputs": [
    {
     "name": "stdout",
     "output_type": "stream",
     "text": [
      "Nhập văn bản: count\n",
      "Nhập từ cần tìm: c\n",
      "0\n"
     ]
    }
   ],
   "source": [
    "def count_word(text_list, find_word):\n",
    "    text_list = text_list.lower().split()\n",
    "    find_word = find_word.lower()\n",
    "    word_nunber = {}\n",
    "\n",
    "    for i in text_list:\n",
    "        word_nunber.update({i:text_list.count(i)})\n",
    "\n",
    "    return word_nunber.get(find_word)\n",
    "        \n",
    "text_list = input('Nhập văn bản: ')\n",
    "find_word = input('Nhập từ cần tìm: ')\n",
    "count_word = count_word(text_list,find_word)\n",
    "if count_word:\n",
    "    print(count_word)\n",
    "else:\n",
    "    print(0)"
   ]
  }
 ],
 "metadata": {
  "kernelspec": {
   "display_name": "Python 3 (ipykernel)",
   "language": "python",
   "name": "python3"
  },
  "language_info": {
   "codemirror_mode": {
    "name": "ipython",
    "version": 3
   },
   "file_extension": ".py",
   "mimetype": "text/x-python",
   "name": "python",
   "nbconvert_exporter": "python",
   "pygments_lexer": "ipython3",
   "version": "3.9.7"
  }
 },
 "nbformat": 4,
 "nbformat_minor": 5
}
