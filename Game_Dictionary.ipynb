{
 "cells": [
  {
   "cell_type": "code",
   "execution_count": 1,
   "id": "047b6461",
   "metadata": {
    "scrolled": false
   },
   "outputs": [
    {
     "name": "stdout",
     "output_type": "stream",
     "text": [
      "Từ Tiếng Anh: Rain\n",
      "Dịch sang Tiếng Việt: haha\n",
      "Kết quả: Sai\n",
      "\n",
      "Từ Tiếng Anh: Play\n",
      "Dịch sang Tiếng Việt: sdasd\n",
      "Kết quả: Sai\n",
      "\n",
      "Từ Tiếng Anh: Pink\n",
      "Dịch sang Tiếng Việt: HỒNG\n",
      "Kết quả: Sai\n",
      "\n",
      "Từ Tiếng Anh: Eat\n",
      "Dịch sang Tiếng Việt: ĂN\n",
      "Kết quả: Đúng\n",
      "\n",
      "Từ Tiếng Anh: Run\n",
      "Dịch sang Tiếng Việt: QUIT\n",
      "Kết quả: Sai\n",
      "\n",
      "End\n"
     ]
    }
   ],
   "source": [
    "import random\n",
    "\n",
    "data= {'eat':'ăn','drink':'uống', 'run':'chạy', 'go':'đi', 'play':'chơi', 'work':'làm', 'mango':'quả xoài', 'lemon':'quả chanh',\n",
    "               'love':'yêu', 'like':'thích', 'rain':'mưa', 'pink':'màu hồng', 'orange':'màu cam'}\n",
    "while True:\n",
    "    english = random.choice([k for k in data.keys()])\n",
    "    print('Từ Tiếng Anh:', english.title())\n",
    "\n",
    "    vietnamese = input('Dịch sang Tiếng Việt: ').lower()\n",
    "    if data.get(english) == vietnamese:\n",
    "        result = 'Đúng'\n",
    "        print ('Kết quả: Đúng')\n",
    "    else:\n",
    "        print ('Kết quả: Sai')\n",
    "    \n",
    "    print()\n",
    "    if vietnamese != 'quit':\n",
    "        continue\n",
    "    else:\n",
    "        print(\"End\")\n",
    "        break\n"
   ]
  }
 ],
 "metadata": {
  "kernelspec": {
   "display_name": "Python 3 (ipykernel)",
   "language": "python",
   "name": "python3"
  },
  "language_info": {
   "codemirror_mode": {
    "name": "ipython",
    "version": 3
   },
   "file_extension": ".py",
   "mimetype": "text/x-python",
   "name": "python",
   "nbconvert_exporter": "python",
   "pygments_lexer": "ipython3",
   "version": "3.9.7"
  }
 },
 "nbformat": 4,
 "nbformat_minor": 5
}
