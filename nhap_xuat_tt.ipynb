{
 "cells": [
  {
   "cell_type": "code",
   "execution_count": 1,
   "id": "93e37311",
   "metadata": {},
   "outputs": [
    {
     "name": "stdout",
     "output_type": "stream",
     "text": [
      "Nhập số lượng sinh viên: 1\n",
      "Mã sinh viên 1: 1111\n",
      "Tên sinh viên 1: hạnh\n",
      "Điểm tổng kết 1: 2\n",
      "{'1111': ('hạnh', 2.0)}\n"
     ]
    }
   ],
   "source": [
    "n = int(input('Nhập số lượng sinh viên: '))\n",
    "students = {}\n",
    "for i in range(n):\n",
    "    msv = input(\"Mã sinh viên {0}: \".format(i+1))\n",
    "    tsv = (input(\"Tên sinh viên {0}: \".format(i+1)))\n",
    "    dtk = (float(input('Điểm tổng kết {0}: '.format(i+1))))\n",
    "    students[msv] = (tsv,dtk)\n",
    "print(students)\n"
   ]
  }
 ],
 "metadata": {
  "kernelspec": {
   "display_name": "Python 3 (ipykernel)",
   "language": "python",
   "name": "python3"
  },
  "language_info": {
   "codemirror_mode": {
    "name": "ipython",
    "version": 3
   },
   "file_extension": ".py",
   "mimetype": "text/x-python",
   "name": "python",
   "nbconvert_exporter": "python",
   "pygments_lexer": "ipython3",
   "version": "3.9.7"
  }
 },
 "nbformat": 4,
 "nbformat_minor": 5
}
