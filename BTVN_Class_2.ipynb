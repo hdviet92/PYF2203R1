{
 "cells": [
  {
   "cell_type": "code",
   "execution_count": 1,
   "id": "7f8a0a78",
   "metadata": {
    "scrolled": true
   },
   "outputs": [
    {
     "name": "stdout",
     "output_type": "stream",
     "text": [
      "Số phức   \t\t\t\tmodule\n",
      "\n",
      "12 + 9i  \t\t\t\t15.0\n",
      "11 + 9i  \t\t\t\t14.212670403551895\n",
      "17 + 10i  \t\t\t\t19.72308292331602\n",
      "19 + 7i  \t\t\t\t20.248456731316587\n",
      "17 + 13i  \t\t\t\t21.400934559032695\n",
      "8 + 6i  \t\t\t\t10.0\n",
      "4 + 14i  \t\t\t\t14.560219778561036\n",
      "4 + 11i  \t\t\t\t11.704699910719626\n",
      "16 + 11i  \t\t\t\t19.4164878389476\n",
      "13 + 12i  \t\t\t\t17.69180601295413\n",
      "\n",
      "max_modules = 21.400934559032695\n",
      "min_modules = 10.0\n"
     ]
    }
   ],
   "source": [
    "class Sophuc:\n",
    "    \n",
    "    def __init__(self, a, b):\n",
    "        self.a = a\n",
    "        self.b = b\n",
    "        \n",
    "    def validate(self):\n",
    "        if self.a != 0 and self.b != 0 :\n",
    "            return True\n",
    "        else:\n",
    "            return False\n",
    "        \n",
    "    def sophuc(self):\n",
    "        if self.validate():\n",
    "            return '{0} + {1}i'.format(self.a, self.b)\n",
    "    \n",
    "    def module(self):\n",
    "        if self.validate():\n",
    "            return (self.a**2 + self.b**2)**0.5\n",
    "        \n",
    "    def print(self):\n",
    "        print ('{0} + {1}i  \\t\\t\\t\\t{2}'.format(self.a, self.b,self.module()))\n",
    "        \n",
    "        \n",
    "import random        \n",
    "\n",
    "modules = [] \n",
    "rd_so = [i for i in range (0,20)]\n",
    "\n",
    "print('Số phức   \\t\\t\\t\\tmodule')\n",
    "print()\n",
    "\n",
    "for i in range(10):\n",
    "    a = random.choice(rd_so)\n",
    "    b = random.choice(rd_so)\n",
    "    sophuc = Sophuc(a, b)\n",
    "    sophuc.print()\n",
    "    module = sophuc.module()\n",
    "    if module != None:\n",
    "        modules.append(module)\n",
    "\n",
    "min_modules = min(modules)\n",
    "max_modules = max(modules)\n",
    "\n",
    "print()\n",
    "print('max_modules = {0}\\nmin_modules = {1}'.format(max_modules,min_modules))"
   ]
  },
  {
   "cell_type": "code",
   "execution_count": null,
   "id": "c4f37530",
   "metadata": {},
   "outputs": [],
   "source": []
  }
 ],
 "metadata": {
  "kernelspec": {
   "display_name": "Python 3 (ipykernel)",
   "language": "python",
   "name": "python3"
  },
  "language_info": {
   "codemirror_mode": {
    "name": "ipython",
    "version": 3
   },
   "file_extension": ".py",
   "mimetype": "text/x-python",
   "name": "python",
   "nbconvert_exporter": "python",
   "pygments_lexer": "ipython3",
   "version": "3.9.7"
  }
 },
 "nbformat": 4,
 "nbformat_minor": 5
}
