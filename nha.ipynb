{
 "cells": [
  {
   "cell_type": "code",
   "execution_count": null,
   "id": "492d590d",
   "metadata": {},
   "outputs": [],
   "source": [
    "import turtle\n",
    "\n",
    "t = turtle.Turtle()\n",
    "t.hideturtle()\n",
    "t.pencolor('red')\n",
    "\n",
    "def square_draw(w,h):\n",
    "    for i in range(2):\n",
    "        t.forward(w)\n",
    "        t.right(90)\n",
    "        t.forward(h)\n",
    "        t.right(90)\n",
    "    turtle.done()\n",
    "    \n",
    "square_draw(100,60)"
   ]
  },
  {
   "cell_type": "code",
   "execution_count": null,
   "id": "c9577453",
   "metadata": {},
   "outputs": [],
   "source": []
  }
 ],
 "metadata": {
  "kernelspec": {
   "display_name": "Python 3 (ipykernel)",
   "language": "python",
   "name": "python3"
  },
  "language_info": {
   "codemirror_mode": {
    "name": "ipython",
    "version": 3
   },
   "file_extension": ".py",
   "mimetype": "text/x-python",
   "name": "python",
   "nbconvert_exporter": "python",
   "pygments_lexer": "ipython3",
   "version": "3.9.7"
  }
 },
 "nbformat": 4,
 "nbformat_minor": 5
}
