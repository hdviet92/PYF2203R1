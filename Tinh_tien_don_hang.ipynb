{
 "cells": [
  {
   "cell_type": "code",
   "execution_count": 1,
   "id": "3d1c11b7",
   "metadata": {},
   "outputs": [
    {
     "name": "stdout",
     "output_type": "stream",
     "text": [
      "Give me a price: 70\n",
      "Total:  70\n"
     ]
    }
   ],
   "source": [
    "money = int(input(\"Give me a price: \"))\n",
    "if money >= 150:\n",
    "    print(\"Total: \", money - 50)\n",
    "elif money >= 100:\n",
    "    print(\"Total: \", money - 25)\n",
    "elif money >= 75:\n",
    "    print(\"Total: \", money - 15)\n",
    "else:\n",
    "    print(\"Total: \", money)"
   ]
  }
 ],
 "metadata": {
  "kernelspec": {
   "display_name": "Python 3 (ipykernel)",
   "language": "python",
   "name": "python3"
  },
  "language_info": {
   "codemirror_mode": {
    "name": "ipython",
    "version": 3
   },
   "file_extension": ".py",
   "mimetype": "text/x-python",
   "name": "python",
   "nbconvert_exporter": "python",
   "pygments_lexer": "ipython3",
   "version": "3.9.7"
  }
 },
 "nbformat": 4,
 "nbformat_minor": 5
}
