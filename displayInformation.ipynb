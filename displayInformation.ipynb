{
 "cells": [
  {
   "cell_type": "code",
   "execution_count": 1,
   "id": "9c9ceb5f",
   "metadata": {},
   "outputs": [
    {
     "name": "stdout",
     "output_type": "stream",
     "text": [
      "Họ và tên: Huỳnh Đức Việt\n",
      "Năm sinh: 1992\n",
      "Địa chỉ: Đà Nẵng, Việt Nam\n"
     ]
    }
   ],
   "source": [
    "print ('Họ và tên: Huỳnh Đức Việt')\n",
    "print ('Năm sinh: 1992')\n",
    "print ('Địa chỉ: Đà Nẵng, Việt Nam')"
   ]
  }
 ],
 "metadata": {
  "kernelspec": {
   "display_name": "Python 3 (ipykernel)",
   "language": "python",
   "name": "python3"
  },
  "language_info": {
   "codemirror_mode": {
    "name": "ipython",
    "version": 3
   },
   "file_extension": ".py",
   "mimetype": "text/x-python",
   "name": "python",
   "nbconvert_exporter": "python",
   "pygments_lexer": "ipython3",
   "version": "3.9.7"
  }
 },
 "nbformat": 4,
 "nbformat_minor": 5
}
