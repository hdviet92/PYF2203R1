{
 "cells": [
  {
   "cell_type": "code",
   "execution_count": 1,
   "id": "cb38e008",
   "metadata": {},
   "outputs": [
    {
     "name": "stdout",
     "output_type": "stream",
     "text": [
      "Nhập từ Tiếng Anh: drink\n",
      "Dịch sang Tiếng Việt: Uống\n",
      "Bạn có muốn tiếp tục:\n",
      "Nhập từ Tiếng Anh: go\n",
      "Dịch sang Tiếng Việt: Đi\n",
      "Bạn có muốn tiếp tục:no\n"
     ]
    }
   ],
   "source": [
    "data= {'eat':'ăn','drink':'uống', 'run':'chạy', 'go':'đi', 'play':'chơi', 'work':'làm', 'mango':'quả xoài', 'lemon':'quả chanh',\n",
    "               'love':'yêu', 'like':'thích', 'rain':'mưa', 'pink':'màu hồng', 'orange':'màu cam'}\n",
    "while True:\n",
    "    english = input('Nhập từ Tiếng Anh: ').lower()\n",
    "\n",
    "    vietnamese = data.values()\n",
    "\n",
    "    if data.get(english) in vietnamese:\n",
    "        print('Dịch sang Tiếng Việt:', data.get(english).title())\n",
    "    else:\n",
    "        print ('Không có từ này trong Từ điển')\n",
    "    end = input('Bạn có muốn tiếp tục:').lower()\n",
    "    if end == 'no':\n",
    "        break\n"
   ]
  },
  {
   "cell_type": "code",
   "execution_count": null,
   "id": "41fc9467",
   "metadata": {},
   "outputs": [],
   "source": []
  },
  {
   "cell_type": "code",
   "execution_count": null,
   "id": "0941a61e",
   "metadata": {},
   "outputs": [],
   "source": []
  }
 ],
 "metadata": {
  "kernelspec": {
   "display_name": "Python 3 (ipykernel)",
   "language": "python",
   "name": "python3"
  },
  "language_info": {
   "codemirror_mode": {
    "name": "ipython",
    "version": 3
   },
   "file_extension": ".py",
   "mimetype": "text/x-python",
   "name": "python",
   "nbconvert_exporter": "python",
   "pygments_lexer": "ipython3",
   "version": "3.9.7"
  }
 },
 "nbformat": 4,
 "nbformat_minor": 5
}
