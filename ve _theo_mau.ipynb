{
 "cells": [
  {
   "cell_type": "code",
   "execution_count": null,
   "id": "0361b546",
   "metadata": {},
   "outputs": [],
   "source": [
    "import turtle as tl\n",
    "import random as r\n",
    "\n",
    "tl.speed(10)\n",
    "j = 0\n",
    "while j <= 36:\n",
    "    tl.pencolor(r.choice(['red','blue','green','orange']))\n",
    "    tl.left(10)\n",
    "    i = 0\n",
    "    while i < 2:\n",
    "        tl.circle(100,90)\n",
    "        tl.circle(50,90)\n",
    "        i += 1\n",
    "    j += 1\n",
    "\n",
    "tl.mainloop()"
   ]
  }
 ],
 "metadata": {
  "kernelspec": {
   "display_name": "Python 3 (ipykernel)",
   "language": "python",
   "name": "python3"
  },
  "language_info": {
   "codemirror_mode": {
    "name": "ipython",
    "version": 3
   },
   "file_extension": ".py",
   "mimetype": "text/x-python",
   "name": "python",
   "nbconvert_exporter": "python",
   "pygments_lexer": "ipython3",
   "version": "3.9.7"
  }
 },
 "nbformat": 4,
 "nbformat_minor": 5
}
