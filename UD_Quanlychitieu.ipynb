{
 "cells": [
  {
   "cell_type": "code",
   "execution_count": 1,
   "id": "7d1d7d37",
   "metadata": {},
   "outputs": [
    {
     "name": "stdout",
     "output_type": "stream",
     "text": [
      "What do you want to do?\n",
      "1. Add\n",
      "2. Remove\n",
      "\n",
      "Your_expenses_old: [['gà', 20000, 12], ['Trứng', 20000, 13]]\n",
      "Select option 1 or 2: 1\n",
      "Item name: Thịt\n",
      "Item cost: 40000\n",
      "Date: 3\n",
      "Your_expenses_new: [['gà', 20000, 12], ['Trứng', 20000, 13], ['Thịt', 40000, 3]]\n"
     ]
    }
   ],
   "source": [
    "def add_item(myTempList, item):    \n",
    "    myTempList.append(item)\n",
    "    \n",
    "def find_index_item(myTempList, item_name):\n",
    "    result = -1\n",
    "    length = len(myTempList)\n",
    "    for i in range(length):\n",
    "        if (myTempList[i][0]).lower() == item_name.lower():\n",
    "            result = i\n",
    "    return result\n",
    "\n",
    "def remove_item(myTempList, item_name):\n",
    "    if find_index_item(myTempList, item_name) > -1:\n",
    "        del myTempList[find_index_item(myTempList, item_name)]\n",
    "    else:\n",
    "        print(item_name + \" not in list\")\n",
    "        \n",
    "print(\"What do you want to do?\\n\"\\\n",
    "        \"1. Add\\n\"\\\n",
    "        \"2. Remove\")\n",
    "print()\n",
    "\n",
    "expenses = [['gà', 20000, 12],['Trứng', 20000, 13]]\n",
    "print(\"Your_expenses_old:\", expenses)\n",
    "\n",
    "option = int(input(\"Select option 1 or 2: \"))\n",
    "name_input = input(\"Item name: \")\n",
    "\n",
    "if option == 1:\n",
    "    cost_input = int(input(\"Item cost: \"))\n",
    "    date_input = int(input(\"Date: \"))\n",
    "    item = [name_input, cost_input, date_input]\n",
    "    add_item(expenses, item)\n",
    "    print(\"Your_expenses_new:\", expenses)\n",
    "elif option == 2:\n",
    "    remove_item(expenses, name_input)\n",
    "    print(\"Your_expenses_new:\", expenses)\n",
    "else:\n",
    "    print(\"Invalid input\")"
   ]
  }
 ],
 "metadata": {
  "kernelspec": {
   "display_name": "Python 3 (ipykernel)",
   "language": "python",
   "name": "python3"
  },
  "language_info": {
   "codemirror_mode": {
    "name": "ipython",
    "version": 3
   },
   "file_extension": ".py",
   "mimetype": "text/x-python",
   "name": "python",
   "nbconvert_exporter": "python",
   "pygments_lexer": "ipython3",
   "version": "3.9.7"
  }
 },
 "nbformat": 4,
 "nbformat_minor": 5
}
