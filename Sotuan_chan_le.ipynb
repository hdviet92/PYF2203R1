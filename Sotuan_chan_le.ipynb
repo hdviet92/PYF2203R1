{
 "cells": [
  {
   "cell_type": "code",
   "execution_count": 1,
   "id": "7ba1b31f",
   "metadata": {
    "scrolled": false
   },
   "outputs": [],
   "source": [
    "import datetime\n",
    "\n",
    "def sotuan_chan_le(nhap_month, nhap_year):\n",
    "    '''Tính số tuần chẵn lẻ trong tháng:\n",
    "    - Nếu tháng không nằm trong khoảng từ 1 - 12 và năm không bằng 2 hoặc 4 ký tự thì xuất kết quả số tuần chẵn: None và số tuần lẻ: None\n",
    "    - Ngược lại nhập đúng xuất ra số tháng chẵn và số tháng lẻ'''\n",
    "\n",
    "    month = int(nhap_month)\n",
    "    year = int(nhap_year)\n",
    "\n",
    "    if 1 <= month <= 12 and len(str(nhap_year)) == 2 or len(str(nhap_year)) == 4:\n",
    "\n",
    "        if month == 12:\n",
    "            days = 31       \n",
    "        else:\n",
    "            days = (datetime.date(year, month + 1, 1) - datetime.date(year, month, 1)).days\n",
    "    \n",
    "        weekdays = ''\n",
    "        for day in range (1, days + 1):\n",
    "            weekdays += str(datetime.date(year, month, day).weekday())\n",
    "        weeks = weekdays.count('60') + 1\n",
    "        weeks_chan = weekdays.count('0123456')\n",
    "        weeks_le = weeks - weeks_chan\n",
    "    \n",
    "    else:\n",
    "        weeks_chan = None\n",
    "        weeks_le = None\n",
    "    return  weeks_chan, weeks_le"
   ]
  }
 ],
 "metadata": {
  "kernelspec": {
   "display_name": "Python 3 (ipykernel)",
   "language": "python",
   "name": "python3"
  },
  "language_info": {
   "codemirror_mode": {
    "name": "ipython",
    "version": 3
   },
   "file_extension": ".py",
   "mimetype": "text/x-python",
   "name": "python",
   "nbconvert_exporter": "python",
   "pygments_lexer": "ipython3",
   "version": "3.9.7"
  }
 },
 "nbformat": 4,
 "nbformat_minor": 5
}
