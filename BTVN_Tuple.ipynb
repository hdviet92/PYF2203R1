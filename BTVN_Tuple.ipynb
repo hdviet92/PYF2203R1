{
 "cells": [
  {
   "cell_type": "code",
   "execution_count": 1,
   "id": "6f5191dc",
   "metadata": {},
   "outputs": [
    {
     "name": "stdout",
     "output_type": "stream",
     "text": [
      "Nhập số phần tử trong List A: 2\n",
      "List A: [[89, 61, 60, 57, 30], [2, 88, 43, 100]]\n",
      "Trung bình cộng từng phần tử trong List A: [59.4, 58.25]\n",
      "Do you want to click again?: y\n",
      "Nhập số phần tử trong List A: 4\n",
      "List A: [[69, 99, 98], [35, 60, 70, 46], [55, 40, 65], [72]]\n",
      "Trung bình cộng từng phần tử trong List A: [88.66666666666667, 52.75, 53.333333333333336, 72.0]\n",
      "Do you want to click again?: n\n",
      "END\n"
     ]
    }
   ],
   "source": [
    "import random\n",
    "\n",
    "while True:\n",
    "    sophantu_A = int(input('Nhập số phần tử trong List A: '))\n",
    "    A = []\n",
    "    for i in range(sophantu_A):\n",
    "\n",
    "        n = int(random.choice([i for i in range(1,7)]))\n",
    "        phantu_A = []\n",
    "        for i in range(n):\n",
    "            sophantu_phantuA = int(random.choice([i for i in range(101)]))\n",
    "            phantu_A.append(sophantu_phantuA)\n",
    "        A.append(phantu_A)\n",
    "    print ('List A:', A)\n",
    "\n",
    "    tbc_A = []\n",
    "    for i in range(len(A)):\n",
    "        phantu_tbc = sum(A[i])/len(A[i])\n",
    "        tbc_A.append(phantu_tbc)\n",
    "    print('Trung bình cộng từng phần tử trong List A:',tbc_A)\n",
    "    \n",
    "    again = input(\"Do you want to click again?: \")\n",
    "    if again.lower().startswith(\"y\"):\n",
    "        continue\n",
    "    else:\n",
    "        print(\"END\")\n",
    "        break"
   ]
  },
  {
   "cell_type": "code",
   "execution_count": 2,
   "id": "a91b8b1a",
   "metadata": {},
   "outputs": [
    {
     "name": "stdout",
     "output_type": "stream",
     "text": [
      "[59, 60, 95]\n",
      "[118, 120, 190]\n",
      "[]\n"
     ]
    }
   ],
   "source": [
    "import random\n",
    "sophantu_tuple1 = int(random.choice([i for i in range(1,20)]))\n",
    "\n",
    "tuple1 = []\n",
    "for i in range(sophantu_tuple1):\n",
    "    phantu_tuple1 = int(random.choice([i for i in range(101)]))\n",
    "    tuple1.append(phantu_tuple1)\n",
    "    tuple1.sort()\n",
    "    \n",
    "tuple2 = []\n",
    "for i in range(len(tuple1.copy())):\n",
    "    tuple2.append(tuple1.copy()[i]*2)\n",
    "\n",
    "tuples = []\n",
    "for i in tuple1:\n",
    "    for j in tuple2:\n",
    "        if i == j:\n",
    "            tuples.append(i)\n",
    "            \n",
    "print((tuple1))        \n",
    "print((tuple2))         \n",
    "print(tuples)"
   ]
  }
 ],
 "metadata": {
  "kernelspec": {
   "display_name": "Python 3 (ipykernel)",
   "language": "python",
   "name": "python3"
  },
  "language_info": {
   "codemirror_mode": {
    "name": "ipython",
    "version": 3
   },
   "file_extension": ".py",
   "mimetype": "text/x-python",
   "name": "python",
   "nbconvert_exporter": "python",
   "pygments_lexer": "ipython3",
   "version": "3.9.7"
  }
 },
 "nbformat": 4,
 "nbformat_minor": 5
}
