{
 "cells": [
  {
   "cell_type": "code",
   "execution_count": 1,
   "id": "834c966f",
   "metadata": {},
   "outputs": [
    {
     "name": "stdout",
     "output_type": "stream",
     "text": [
      "Nhập số phần tử trong List A: 4\n",
      "List A: [[18.0, 64.0, 65.0, 75.0, 81.0, 98.0], [12.0, 25.0, 49.0, 54.0, 67.0, 90.0], [56.0, 95.0], [35.0, 55.0, 71.0]]\n",
      "Trung bình cộng từng phần tử trong List A: [66.83333333333333, 49.5, 75.5, 53.666666666666664]\n"
     ]
    }
   ],
   "source": [
    "import random\n",
    "sophantu_A = int(input('Nhập số phần tử trong List A: '))\n",
    "A = []\n",
    "for i in range(sophantu_A):\n",
    "    \n",
    "    n = int(random.choice([i for i in range(1,7)]))\n",
    "    phantu_A = []\n",
    "    for i in range(n):\n",
    "        sophantu_phantuA = float(random.choice([i for i in range(101)]))\n",
    "        phantu_A.append(sophantu_phantuA)\n",
    "        phantu_A.sort()\n",
    "    A.append(phantu_A)\n",
    "print ('List A:', A)\n",
    "\n",
    "tbc_A = []\n",
    "for i in range(len(A)):\n",
    "    phantu_tbc = sum(A[i])/len(A[i])\n",
    "    tbc_A.append(phantu_tbc)\n",
    "print('Trung bình cộng từng phần tử trong List A:',tbc_A)"
   ]
  },
  {
   "cell_type": "code",
   "execution_count": 2,
   "id": "fec935ff",
   "metadata": {},
   "outputs": [
    {
     "name": "stdout",
     "output_type": "stream",
     "text": [
      "((1, 35, 49), (2, 70, 98))\n"
     ]
    }
   ],
   "source": [
    "import random\n",
    "sophantu_tuple1 = int(random.choice([i for i in range(1,20)]))\n",
    "\n",
    "tuple1 = []\n",
    "for i in range(n):\n",
    "    phantu_tuple1 = int(random.choice([i for i in range(101)]))\n",
    "    tuple1.append(phantu_tuple1)\n",
    "    tuple1.sort()\n",
    "tuple1 = tuple(tuple1)\n",
    "\n",
    "tuple2 = []\n",
    "for i in range(len(tuple1)):\n",
    "    tuple2.append(tuple1[i]*2)\n",
    "tuple2 = tuple(tuple2)\n",
    "\n",
    "tuples = tuple1, tuple2\n",
    "\n",
    "print(tuples)"
   ]
  }
 ],
 "metadata": {
  "kernelspec": {
   "display_name": "Python 3 (ipykernel)",
   "language": "python",
   "name": "python3"
  },
  "language_info": {
   "codemirror_mode": {
    "name": "ipython",
    "version": 3
   },
   "file_extension": ".py",
   "mimetype": "text/x-python",
   "name": "python",
   "nbconvert_exporter": "python",
   "pygments_lexer": "ipython3",
   "version": "3.9.7"
  }
 },
 "nbformat": 4,
 "nbformat_minor": 5
}
