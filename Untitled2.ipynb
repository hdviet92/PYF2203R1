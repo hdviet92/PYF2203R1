{
 "cells": [
  {
   "cell_type": "code",
   "execution_count": 1,
   "id": "ed3cc7c7",
   "metadata": {},
   "outputs": [
    {
     "name": "stdout",
     "output_type": "stream",
     "text": [
      "('eat', 'ăn')\n",
      "('drink', 'uống')\n",
      "('run', 'chạy')\n",
      "('go', 'đi')\n",
      "('play', 'làm')\n",
      "('mango', 'xoài')\n",
      "('lemon', 'chanh')\n",
      "('love', 'yêu')\n",
      "('like', 'thích')\n",
      "('rain', 'mưa')\n",
      "('pink', 'màu hồng')\n"
     ]
    }
   ],
   "source": [
    "dich = {'eat':'ăn','drink':'uống', 'run':'chạy', 'go':'đi', 'play':'làm', 'mango':'xoài', 'lemon':'chanh',\n",
    "               'love':'yêu', 'like':'thích', 'rain':'mưa', 'pink':'màu hồng'}\n",
    "english = dich.items()\n",
    "for key in dich.items():\n",
    "    print(key)\n",
    "    "
   ]
  }
 ],
 "metadata": {
  "kernelspec": {
   "display_name": "Python 3 (ipykernel)",
   "language": "python",
   "name": "python3"
  },
  "language_info": {
   "codemirror_mode": {
    "name": "ipython",
    "version": 3
   },
   "file_extension": ".py",
   "mimetype": "text/x-python",
   "name": "python",
   "nbconvert_exporter": "python",
   "pygments_lexer": "ipython3",
   "version": "3.9.7"
  }
 },
 "nbformat": 4,
 "nbformat_minor": 5
}
