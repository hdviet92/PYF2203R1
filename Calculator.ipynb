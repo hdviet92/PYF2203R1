{
 "cells": [
  {
   "cell_type": "code",
   "execution_count": null,
   "id": "34a873c1",
   "metadata": {
    "scrolled": false
   },
   "outputs": [],
   "source": [
    "from tkinter import *\n",
    "\n",
    "cal = Tk()\n",
    "cal.title('Calculator')\n",
    "cal.resizable(0, 0)\n",
    "\n",
    "textdisplay = Entry(cal, width=17, font=('arial', 28,'bold'), bd=5, bg='powder blue',justify='right').grid(column=1, columnspan=5)\n",
    "clear = Frame(cal, width=10).grid(column=0, rowspan=14)\n",
    "clear = Frame(cal, width=10).grid(column=6, rowspan=14)\n",
    "\n",
    "\n",
    "clear = Frame(cal, height=10).grid(row=1, columnspan=5)\n",
    "bt_mc = Button(cal, borderwidth=2, width=6, height=2, font=('arial', 12), text='MC').grid(row=2, column=1)\n",
    "bt_mr = Button(cal, borderwidth=2, width=6, height=2, font=('arial', 12), text='MR').grid(row=2, column=2)\n",
    "bt_ms = Button(cal, borderwidth=2, width=6, height=2, font=('arial', 12), text='MS').grid(row=2, column=3)\n",
    "bt_mcg = Button(cal, borderwidth=2, width=6, height=2, font=('arial', 12), text='M+').grid(row=2, column=4)\n",
    "bt_mtr = Button(cal, borderwidth=2, width=6, height=2, font=('arial', 12), text='M-').grid(row=2, column=5)\n",
    "\n",
    "clear = Frame(cal, height=10).grid(row=3, columnspan=5)\n",
    "bt_del = Button(cal, borderwidth=2, width=6, height=2, font=('arial', 12), text='←').grid(row=4, column=1)\n",
    "bt_ce = Button(cal, borderwidth=2, width=6, height=2, font=('arial', 12), text='CE').grid(row=4, column=2)\n",
    "bt_c = Button(cal, borderwidth=2, width=6, height=2, font=('arial', 12), text='C').grid(row=4, column=3)\n",
    "bt_ad = Button(cal, borderwidth=2, width=6, height=2, font=('arial', 12), text='±').grid(row=4, column=4)\n",
    "bt_can = Button(cal, borderwidth=2, width=6, height=2, font=('arial', 12), text='√').grid(row=4, column=5)\n",
    "\n",
    "clear = Frame(cal, height=10).grid(row=5, columnspan=5)\n",
    "bt_7 = Button(cal, borderwidth=2, width=6, height=2, font=('arial', 12), text='7').grid(row=6, column=1)\n",
    "bt_8 = Button(cal, borderwidth=2, width=6, height=2, font=('arial', 12), text='8').grid(row=6, column=2)\n",
    "bt_9 = Button(cal, borderwidth=2, width=6, height=2, font=('arial', 12), text='9').grid(row=6, column=3)\n",
    "bt_ch = Button(cal, borderwidth=2, width=6, height=2, font=('arial', 12), text='/').grid(row=6, column=4)\n",
    "bt_pt = Button(cal, borderwidth=2, width=6, height=2, font=('arial', 12), text='%').grid(row=6, column=5)\n",
    "\n",
    "clear = Frame(cal, height=10).grid(row=7, columnspan=7)\n",
    "bt_4 = Button(cal, borderwidth=2, width=6, height=2, font=('arial', 12), text='4').grid(row=8, column=1)\n",
    "bt_5 = Button(cal, borderwidth=2, width=6, height=2, font=('arial', 12), text='5').grid(row=8, column=2)\n",
    "bt_6 = Button(cal, borderwidth=2, width=6, height=2, font=('arial', 12), text='6').grid(row=8, column=3)\n",
    "bt_x = Button(cal, borderwidth=2, width=6, height=2, font=('arial', 12), text='*').grid(row=8, column=4)\n",
    "bt_1cx = Button(cal, borderwidth=2, width=6, height=2, font=('arial', 12), text='1/x').grid(row=8, column=5)\n",
    "\n",
    "clear = Frame(cal, height=10).grid(row=9, columnspan=5)\n",
    "bt_1 = Button(cal, borderwidth=2, width=6, height=2, font=('arial', 12), text='1').grid(row=10, column=1)\n",
    "bt_2 = Button(cal, borderwidth=2, width=6, height=2, font=('arial', 12), text='2').grid(row=10, column=2)\n",
    "bt_3 = Button(cal, borderwidth=2, width=6, height=2, font=('arial', 12), text='3').grid(row=10, column=3)\n",
    "bt_tr = Button(cal, borderwidth=2, width=6, height=2, font=('arial', 12), text='-').grid(row=10, column=4)\n",
    "bt_bg = Button(cal, borderwidth=2, width=6, height=6, font=('arial', 12), text='=').grid(row=10, column=5, rowspan=3)\n",
    "\n",
    "clear = Frame(cal, height=10).grid(row=11, columnspan=4)\n",
    "bt_0 = Button(cal, borderwidth=2, width=15, height=2, font=('arial', 12), text='0').grid(row=12, column=1, columnspan=2)\n",
    "bt_cham = Button(cal, borderwidth=2, width=6, height=2, font=('arial', 12), text='.').grid(row=12, column=3)\n",
    "bt_cg = Button(cal, borderwidth=2, width=6, height=2, font=('arial', 12), text='+').grid(row=12, column=4)\n",
    "clear = Frame(cal, height=15).grid(row=15, columnspan=5)\n",
    "cal.mainloop()\n"
   ]
  },
  {
   "cell_type": "code",
   "execution_count": null,
   "id": "5135fdac",
   "metadata": {},
   "outputs": [],
   "source": []
  }
 ],
 "metadata": {
  "kernelspec": {
   "display_name": "Python 3 (ipykernel)",
   "language": "python",
   "name": "python3"
  },
  "language_info": {
   "codemirror_mode": {
    "name": "ipython",
    "version": 3
   },
   "file_extension": ".py",
   "mimetype": "text/x-python",
   "name": "python",
   "nbconvert_exporter": "python",
   "pygments_lexer": "ipython3",
   "version": "3.9.7"
  }
 },
 "nbformat": 4,
 "nbformat_minor": 5
}
